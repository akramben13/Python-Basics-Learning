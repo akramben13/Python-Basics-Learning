{
 "cells": [
  {
   "cell_type": "code",
   "execution_count": 10,
   "id": "28ef117f",
   "metadata": {},
   "outputs": [],
   "source": [
    "#MAKE  A NEW OBJECT , LIKE SHIRT \n",
    "#SHIRT HAVE 4 ATTRIBUTES : COLOR , SIZE , STYLE , PRICE\n",
    "#WE MAKE TWO FUNCTIONS : CHANGE_PRICE , DISCOUNT \n",
    "class Shirts :\n",
    "    def __init__(self, shirt_size, shirt_color, shirt_style, shirt_price):\n",
    "        self.size = shirt_size\n",
    "        self.color = shirt_color\n",
    "        self.style = shirt_style\n",
    "        self.price = shirt_price\n",
    "        \n",
    "    def change_price(self, new_price):\n",
    "        self.price = new_price\n",
    "        \n",
    "    def discount(self, discount):\n",
    "        return self.price * (1 - discount)"
   ]
  },
  {
   "cell_type": "code",
   "execution_count": 11,
   "id": "6f20b99b",
   "metadata": {},
   "outputs": [
    {
     "name": "stdout",
     "output_type": "stream",
     "text": [
      "red\n"
     ]
    }
   ],
   "source": [
    "#DEFINE A NEW SHIRT\n",
    "shirt = Shirts('M', 'red', 'sleeve','20')\n",
    "print(shirt.color)"
   ]
  },
  {
   "cell_type": "code",
   "execution_count": 12,
   "id": "e4afdbaa",
   "metadata": {},
   "outputs": [
    {
     "name": "stdout",
     "output_type": "stream",
     "text": [
      "[<__main__.Shirts object at 0x00000233B6774FA0>, <__main__.Shirts object at 0x00000233B6774C70>, <__main__.Shirts object at 0x00000233B6774F40>]\n"
     ]
    }
   ],
   "source": [
    "#DEFINE A NEW 3 SHIRTS \n",
    "#ADD THIS NEW 3 SHIRTS TO LIST\n",
    "sh1 = Shirts('M', 'red', 'sleeve','20')\n",
    "sh2 = Shirts('M', 'blue', 'sleeve','15')\n",
    "sh3 = Shirts('M', 'green', 'sleeve','30')\n",
    "shirt_collection = []\n",
    "shirt_collection.append(sh1)\n",
    "shirt_collection.append(sh2)\n",
    "shirt_collection.append(sh3)\n",
    "print(shirt_collection)"
   ]
  },
  {
   "cell_type": "code",
   "execution_count": 13,
   "id": "fa19242b",
   "metadata": {},
   "outputs": [
    {
     "name": "stdout",
     "output_type": "stream",
     "text": [
      "red\n",
      "blue\n",
      "green\n"
     ]
    }
   ],
   "source": [
    "#PRINT SHIRTS COLOR\n",
    "for i in range(len(shirt_collection)):\n",
    "    print(shirt_collection[i].color)"
   ]
  }
 ],
 "metadata": {
  "kernelspec": {
   "display_name": "Python 3",
   "language": "python",
   "name": "python3"
  },
  "language_info": {
   "codemirror_mode": {
    "name": "ipython",
    "version": 3
   },
   "file_extension": ".py",
   "mimetype": "text/x-python",
   "name": "python",
   "nbconvert_exporter": "python",
   "pygments_lexer": "ipython3",
   "version": "3.8.8"
  }
 },
 "nbformat": 4,
 "nbformat_minor": 5
}
